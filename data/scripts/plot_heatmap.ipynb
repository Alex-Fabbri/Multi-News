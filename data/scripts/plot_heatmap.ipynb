{
 "cells": [
  {
   "cell_type": "code",
   "execution_count": null,
   "metadata": {},
   "outputs": [],
   "source": [
    "import seaborn as sns\n",
    "import pickle\n",
    "import statistics \n",
    "from pylab import *\n",
    "import  matplotlib.pyplot as plt"
   ]
  },
  {
   "cell_type": "code",
   "execution_count": null,
   "metadata": {},
   "outputs": [],
   "source": [
    "density = pickle.load(open(\"pickle_files/multi_news_density.pk\", \"rb\"))\n",
    "coverage = pickle.load(open(\"pickle_files/multi_news_coverage.pk\", \"rb\"))\n",
    "compression = pickle.load(open(\"pickle_files/multi_news_compression.pk\", \"rb\"))\n",
    "N = len(density)\n",
    "C = statistics.median(compression)\n",
    "\n",
    "sns.set_style(\"white\")\n",
    "ax = sns.kdeplot(coverage, density, shade=True, cmap=\"Blues\", bw='scott', n_levels=25, shade_lowest=False)\n",
    "ax.set_ylim(0, 10)\n",
    "ax.set_yticks([0, 2, 4,6,8,10,12,14])\n",
    "ax.set_yticklabels([0, 2,4,6,8,10,12,14],fontsize = 24)\n",
    "ax.set_xlim(0.4, 1)\n",
    "ax.set_xticks([0.5, .6, 0.7, .8, 0.9])\n",
    "ax.set_xticklabels([0.5, 0.6, 0.7, 0.8, 0.9], fontsize=24)\n",
    "ax.set_xlabel(\"Extractive fragment coverage\", fontsize=16)\n",
    "ax.set_ylabel(\"Extractive fragment density\", fontsize=16)\n",
    "ax.text(0.45, 4.5, 'multi_news\\nn = %d\\nc = %.2f'%(N, C), fontsize=24, bbox={'facecolor':'white', 'alpha':0.5, 'pad':0})\n",
    "ax.get_figure().set_size_inches((5, 6), forward=False)\n",
    "ax.get_figure().savefig(\"multi_news_diversity.pdf\")"
   ]
  },
  {
   "cell_type": "code",
   "execution_count": null,
   "metadata": {},
   "outputs": [],
   "source": []
  }
 ],
 "metadata": {
  "kernelspec": {
   "display_name": "multi_news",
   "language": "python",
   "name": "multi_news"
  },
  "language_info": {
   "codemirror_mode": {
    "name": "ipython",
    "version": 3
   },
   "file_extension": ".py",
   "mimetype": "text/x-python",
   "name": "python",
   "nbconvert_exporter": "python",
   "pygments_lexer": "ipython3",
   "version": "3.6.8"
  }
 },
 "nbformat": 4,
 "nbformat_minor": 2
}
